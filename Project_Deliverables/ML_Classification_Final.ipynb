{
 "metadata": {
  "language_info": {
   "codemirror_mode": {
    "name": "ipython",
    "version": 3
   },
   "file_extension": ".py",
   "mimetype": "text/x-python",
   "name": "python",
   "nbconvert_exporter": "python",
   "pygments_lexer": "ipython3",
   "version": "3.8.3-final"
  },
  "orig_nbformat": 2,
  "kernelspec": {
   "name": "python3",
   "display_name": "Python 3"
  }
 },
 "nbformat": 4,
 "nbformat_minor": 2,
 "cells": [
  {
   "cell_type": "code",
   "execution_count": 1,
   "metadata": {},
   "outputs": [],
   "source": [
    "# Base libraries\n",
    "import pandas as pd\n",
    "import numpy as np\n",
    "\n",
    "pd.set_option('display.max_columns', None)\n",
    "\n",
    "# Visualization\n",
    "import matplotlib.pyplot as plt\n",
    "import seaborn as sns\n",
    "from matplotlib.colors import BASE_COLORS\n",
    "\n",
    "%matplotlib inline\n",
    "\n",
    "#warnings\n",
    "import warnings\n",
    "warnings.filterwarnings('ignore')\n",
    "warnings.filterwarnings(\"ignore\", message=\"numpy.ufunc size changed\")"
   ]
  },
  {
   "cell_type": "code",
   "execution_count": 7,
   "metadata": {},
   "outputs": [],
   "source": [
    "credit_df = pd.read_csv(\"C:\\\\Users\\\\San\\\\Documents\\\\Mid-Project\\\\ML-Classification\\\\Data_Cleaning\\Output.csv\")"
   ]
  },
  {
   "cell_type": "code",
   "execution_count": 8,
   "metadata": {},
   "outputs": [
    {
     "output_type": "execute_result",
     "data": {
      "text/plain": [
       "       Customer_Number Offer_Accepted  Card_Type Mailer_Type  Income  \\\n",
       "0                    1             No  Air Miles      Letter    High   \n",
       "1                    2             No  Air Miles      Letter  Medium   \n",
       "2                    3             No  Air Miles    Postcard    High   \n",
       "3                    4             No  Air Miles      Letter  Medium   \n",
       "4                    5             No  Air Miles      Letter  Medium   \n",
       "...                ...            ...        ...         ...     ...   \n",
       "17971            17996             No  Cash Back      Letter    High   \n",
       "17972            17997             No  Cash Back      Letter    High   \n",
       "17973            17998             No  Cash Back      Letter    High   \n",
       "17974            17999             No  Cash Back      Letter  Medium   \n",
       "17975            18000             No  Cash Back      Letter     Low   \n",
       "\n",
       "       #Bank_Accounts_Open Overdraft_Protection Credit_Rating  \\\n",
       "0                        1                   No          High   \n",
       "1                        1                   No        Medium   \n",
       "2                        2                   No        Medium   \n",
       "3                        2                   No          High   \n",
       "4                        1                   No        Medium   \n",
       "...                    ...                  ...           ...   \n",
       "17971                    1                   No           Low   \n",
       "17972                    1                   No           Low   \n",
       "17973                    1                   No           Low   \n",
       "17974                    1                   No        Medium   \n",
       "17975                    2                   No        Medium   \n",
       "\n",
       "       #Credit_Cards_Held  #Homes_Owned  Household_Size Own_Your_Home  \\\n",
       "0                       2             1               4            No   \n",
       "1                       2             2               5           Yes   \n",
       "2                       2             1               2           Yes   \n",
       "3                       1             1               4            No   \n",
       "4                       2             1               6           Yes   \n",
       "...                   ...           ...             ...           ...   \n",
       "17971                   1             1               5           Yes   \n",
       "17972                   3             1               3           Yes   \n",
       "17973                   2             1               4            No   \n",
       "17974                   4             2               2           Yes   \n",
       "17975                   2             1               3            No   \n",
       "\n",
       "       Average_Balance  Balance_Q1  Balance_Q2  Balance_Q3  Balance_Q4  \n",
       "0              1160.75        1669         877        1095        1002  \n",
       "1               147.25          39         106          78         366  \n",
       "2               276.50         367         352         145         242  \n",
       "3              1219.00        1578        1760        1119         419  \n",
       "4              1211.00        2140        1357         982         365  \n",
       "...                ...         ...         ...         ...         ...  \n",
       "17971           167.50         136          65          71         398  \n",
       "17972           850.50         984         940         943         535  \n",
       "17973          1087.25         918         767        1170        1494  \n",
       "17974          1022.25         626         983         865        1615  \n",
       "17975          1056.00         265        1378        1978         603  \n",
       "\n",
       "[17976 rows x 17 columns]"
      ],
      "text/html": "<div>\n<style scoped>\n    .dataframe tbody tr th:only-of-type {\n        vertical-align: middle;\n    }\n\n    .dataframe tbody tr th {\n        vertical-align: top;\n    }\n\n    .dataframe thead th {\n        text-align: right;\n    }\n</style>\n<table border=\"1\" class=\"dataframe\">\n  <thead>\n    <tr style=\"text-align: right;\">\n      <th></th>\n      <th>Customer_Number</th>\n      <th>Offer_Accepted</th>\n      <th>Card_Type</th>\n      <th>Mailer_Type</th>\n      <th>Income</th>\n      <th>#Bank_Accounts_Open</th>\n      <th>Overdraft_Protection</th>\n      <th>Credit_Rating</th>\n      <th>#Credit_Cards_Held</th>\n      <th>#Homes_Owned</th>\n      <th>Household_Size</th>\n      <th>Own_Your_Home</th>\n      <th>Average_Balance</th>\n      <th>Balance_Q1</th>\n      <th>Balance_Q2</th>\n      <th>Balance_Q3</th>\n      <th>Balance_Q4</th>\n    </tr>\n  </thead>\n  <tbody>\n    <tr>\n      <th>0</th>\n      <td>1</td>\n      <td>No</td>\n      <td>Air Miles</td>\n      <td>Letter</td>\n      <td>High</td>\n      <td>1</td>\n      <td>No</td>\n      <td>High</td>\n      <td>2</td>\n      <td>1</td>\n      <td>4</td>\n      <td>No</td>\n      <td>1160.75</td>\n      <td>1669</td>\n      <td>877</td>\n      <td>1095</td>\n      <td>1002</td>\n    </tr>\n    <tr>\n      <th>1</th>\n      <td>2</td>\n      <td>No</td>\n      <td>Air Miles</td>\n      <td>Letter</td>\n      <td>Medium</td>\n      <td>1</td>\n      <td>No</td>\n      <td>Medium</td>\n      <td>2</td>\n      <td>2</td>\n      <td>5</td>\n      <td>Yes</td>\n      <td>147.25</td>\n      <td>39</td>\n      <td>106</td>\n      <td>78</td>\n      <td>366</td>\n    </tr>\n    <tr>\n      <th>2</th>\n      <td>3</td>\n      <td>No</td>\n      <td>Air Miles</td>\n      <td>Postcard</td>\n      <td>High</td>\n      <td>2</td>\n      <td>No</td>\n      <td>Medium</td>\n      <td>2</td>\n      <td>1</td>\n      <td>2</td>\n      <td>Yes</td>\n      <td>276.50</td>\n      <td>367</td>\n      <td>352</td>\n      <td>145</td>\n      <td>242</td>\n    </tr>\n    <tr>\n      <th>3</th>\n      <td>4</td>\n      <td>No</td>\n      <td>Air Miles</td>\n      <td>Letter</td>\n      <td>Medium</td>\n      <td>2</td>\n      <td>No</td>\n      <td>High</td>\n      <td>1</td>\n      <td>1</td>\n      <td>4</td>\n      <td>No</td>\n      <td>1219.00</td>\n      <td>1578</td>\n      <td>1760</td>\n      <td>1119</td>\n      <td>419</td>\n    </tr>\n    <tr>\n      <th>4</th>\n      <td>5</td>\n      <td>No</td>\n      <td>Air Miles</td>\n      <td>Letter</td>\n      <td>Medium</td>\n      <td>1</td>\n      <td>No</td>\n      <td>Medium</td>\n      <td>2</td>\n      <td>1</td>\n      <td>6</td>\n      <td>Yes</td>\n      <td>1211.00</td>\n      <td>2140</td>\n      <td>1357</td>\n      <td>982</td>\n      <td>365</td>\n    </tr>\n    <tr>\n      <th>...</th>\n      <td>...</td>\n      <td>...</td>\n      <td>...</td>\n      <td>...</td>\n      <td>...</td>\n      <td>...</td>\n      <td>...</td>\n      <td>...</td>\n      <td>...</td>\n      <td>...</td>\n      <td>...</td>\n      <td>...</td>\n      <td>...</td>\n      <td>...</td>\n      <td>...</td>\n      <td>...</td>\n      <td>...</td>\n    </tr>\n    <tr>\n      <th>17971</th>\n      <td>17996</td>\n      <td>No</td>\n      <td>Cash Back</td>\n      <td>Letter</td>\n      <td>High</td>\n      <td>1</td>\n      <td>No</td>\n      <td>Low</td>\n      <td>1</td>\n      <td>1</td>\n      <td>5</td>\n      <td>Yes</td>\n      <td>167.50</td>\n      <td>136</td>\n      <td>65</td>\n      <td>71</td>\n      <td>398</td>\n    </tr>\n    <tr>\n      <th>17972</th>\n      <td>17997</td>\n      <td>No</td>\n      <td>Cash Back</td>\n      <td>Letter</td>\n      <td>High</td>\n      <td>1</td>\n      <td>No</td>\n      <td>Low</td>\n      <td>3</td>\n      <td>1</td>\n      <td>3</td>\n      <td>Yes</td>\n      <td>850.50</td>\n      <td>984</td>\n      <td>940</td>\n      <td>943</td>\n      <td>535</td>\n    </tr>\n    <tr>\n      <th>17973</th>\n      <td>17998</td>\n      <td>No</td>\n      <td>Cash Back</td>\n      <td>Letter</td>\n      <td>High</td>\n      <td>1</td>\n      <td>No</td>\n      <td>Low</td>\n      <td>2</td>\n      <td>1</td>\n      <td>4</td>\n      <td>No</td>\n      <td>1087.25</td>\n      <td>918</td>\n      <td>767</td>\n      <td>1170</td>\n      <td>1494</td>\n    </tr>\n    <tr>\n      <th>17974</th>\n      <td>17999</td>\n      <td>No</td>\n      <td>Cash Back</td>\n      <td>Letter</td>\n      <td>Medium</td>\n      <td>1</td>\n      <td>No</td>\n      <td>Medium</td>\n      <td>4</td>\n      <td>2</td>\n      <td>2</td>\n      <td>Yes</td>\n      <td>1022.25</td>\n      <td>626</td>\n      <td>983</td>\n      <td>865</td>\n      <td>1615</td>\n    </tr>\n    <tr>\n      <th>17975</th>\n      <td>18000</td>\n      <td>No</td>\n      <td>Cash Back</td>\n      <td>Letter</td>\n      <td>Low</td>\n      <td>2</td>\n      <td>No</td>\n      <td>Medium</td>\n      <td>2</td>\n      <td>1</td>\n      <td>3</td>\n      <td>No</td>\n      <td>1056.00</td>\n      <td>265</td>\n      <td>1378</td>\n      <td>1978</td>\n      <td>603</td>\n    </tr>\n  </tbody>\n</table>\n<p>17976 rows × 17 columns</p>\n</div>"
     },
     "metadata": {},
     "execution_count": 8
    }
   ],
   "source": [
    "credit_df"
   ]
  },
  {
   "cell_type": "code",
   "execution_count": null,
   "metadata": {},
   "outputs": [],
   "source": []
  }
 ]
}